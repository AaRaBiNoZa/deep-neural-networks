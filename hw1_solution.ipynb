{
 "cells": [
  {
   "cell_type": "markdown",
   "metadata": {
    "id": "CMnJ02P1n2jD"
   },
   "source": [
    "# Checkpointing\n",
    "\n",
    "Your task is to implement checkpointing for a MLP using NumPy.\n",
    "\n",
    "You are free to use the implementation of a MLP and the backpropagation algorithm that you have developed during lab sessions.\n",
    "\n",
    "The key takeaway from this task is that with checkpointing we can trade off the computational resources needed to compute the forward pass of the network for the memory requirement needed to perform a backward pass in the network, which is often a major bottleneck when training large networks. In plain english, we can slightly increase the time required for training our network to save some of our GPU's precious memory.\n",
    "\n",
    "## What is checkpointing?\n",
    "\n",
    "The aim of checkpointing is to save every $n$-th layer's (e.g. every 2-nd layer's) forward result (instead of saving every layer's forward result as in plain backpropagation) and use these checkpoints for recomputing the forward pass of the network upon doing a backward pass. Checkpoint layers are kept in memory after the forward pass, while the remaining activations are recomputed at most once. After being recomputed, the non-checkpoint layers are kept in memory until they are no longer required."
   ]
  },
  {
   "cell_type": "markdown",
   "metadata": {
    "id": "SggWdb-2n2jH"
   },
   "source": [
    "# What should be done\n",
    "\n",
    "1. Take the implementation a MLP trained with backpropagation. Analyze the algorithm with respect to the memory that is used by the algorithm with respect to the number of hidden layers.\n",
    "\n",
    "2. Implement a class NetworkWithCheckpointing that inherits from the Network class defined during lab sessions by:\n",
    "    a) implementing a method `forward_between_checkpoints` that will recompute the forward pass of the network using one of the checkpointed layers\n",
    "    b) override the method `backprop` to use only checkpointed layers and otherwise compute the activations using `forward_between_checkpoints` method and keep it in memory until no longer needed.\n",
    "\n",
    "3. Train your network with checkpoinintg on MNIST. Compare running times and memory usage with respect to the network without checkpointing.\n"
   ]
  },
  {
   "cell_type": "markdown",
   "metadata": {
    "id": "Jc_5yyK_n2jI"
   },
   "source": [
    "# Implement Checkpointing for a MLP"
   ]
  },
  {
   "cell_type": "code",
   "execution_count": 16,
   "metadata": {
    "id": "kWu8vR7Pn2jJ"
   },
   "outputs": [],
   "source": [
    "import random\n",
    "import numpy as np\n",
    "from torchvision import datasets, transforms\n",
    "import matplotlib.pyplot as plt"
   ]
  },
  {
   "cell_type": "code",
   "execution_count": 2,
   "metadata": {
    "id": "qIxsWY4dn2jK",
    "outputId": "115b6351-c870-42a9-af5e-f80454763f93"
   },
   "outputs": [
    {
     "name": "stdout",
     "output_type": "stream",
     "text": [
      "--2022-11-18 14:51:45--  https://s3.amazonaws.com/img-datasets/mnist.npz\n",
      "Resolving s3.amazonaws.com (s3.amazonaws.com)... 52.216.52.160, 52.217.197.32, 54.231.161.176, ...\n",
      "Connecting to s3.amazonaws.com (s3.amazonaws.com)|52.216.52.160|:443... connected.\n",
      "HTTP request sent, awaiting response... 200 OK\n",
      "Length: 11490434 (11M) [application/octet-stream]\n",
      "Saving to: ‘mnist.npz’\n",
      "\n",
      "mnist.npz           100%[===================>]  10,96M  8,32MB/s    in 1,3s    \n",
      "\n",
      "2022-11-18 14:51:47 (8,32 MB/s) - ‘mnist.npz’ saved [11490434/11490434]\n",
      "\n"
     ]
    }
   ],
   "source": [
    "!wget -O mnist.npz https://s3.amazonaws.com/img-datasets/mnist.npz"
   ]
  },
  {
   "cell_type": "code",
   "execution_count": 3,
   "metadata": {
    "id": "sTRdsjh-n2jL"
   },
   "outputs": [],
   "source": [
    "# Let's read the mnist dataset\n",
    "\n",
    "def load_mnist(path='mnist.npz'):\n",
    "    with np.load(path) as f:\n",
    "        x_train, _y_train = f['x_train'], f['y_train']\n",
    "        x_test, _y_test = f['x_test'], f['y_test']\n",
    "\n",
    "    x_train = x_train.reshape(-1, 28 * 28) / 255.\n",
    "    x_test = x_test.reshape(-1, 28 * 28) / 255.\n",
    "\n",
    "    y_train = np.zeros((_y_train.shape[0], 10))\n",
    "    y_train[np.arange(_y_train.shape[0]), _y_train] = 1\n",
    "\n",
    "    y_test = np.zeros((_y_test.shape[0], 10))\n",
    "    y_test[np.arange(_y_test.shape[0]), _y_test] = 1\n",
    "\n",
    "    return (x_train, y_train), (x_test, y_test)\n",
    "\n",
    "(x_train, y_train), (x_test, y_test) = load_mnist()"
   ]
  },
  {
   "cell_type": "code",
   "execution_count": 4,
   "metadata": {},
   "outputs": [],
   "source": [
    "def sigmoid(z):\n",
    "    return 1.0/(1.0+np.exp(-z))\n",
    "\n",
    "def sigmoid_prime(z):\n",
    "    # Derivative of the sigmoid\n",
    "    return sigmoid(z)*(1-sigmoid(z))"
   ]
  },
  {
   "cell_type": "code",
   "execution_count": 5,
   "metadata": {
    "id": "cpp78hhqn2jL"
   },
   "outputs": [],
   "source": [
    "class Network(object):\n",
    "    ######################################################################################\n",
    "    ### Your Implementation of a MLP with backpropagation implemented during tutorials ###\n",
    "    ######################################################################################\n",
    "    def __init__(self, sizes):\n",
    "        # initialize biases and weights with random normal distr.\n",
    "        # weights are indexed by target node first\n",
    "        self.num_layers = len(sizes)\n",
    "        self.sizes = sizes\n",
    "        self.biases = [np.random.randn(y, 1) for y in sizes[1:]]\n",
    "        self.weights = [np.random.randn(y, x) \n",
    "                        for x, y in zip(sizes[:-1], sizes[1:])]\n",
    "    def feedforward(self, a):\n",
    "        # Run the network on a batch\n",
    "        a = a.T\n",
    "        for b, w in zip(self.biases, self.weights):\n",
    "            a = sigmoid(np.matmul(w, a)+b)\n",
    "        return a\n",
    "    \n",
    "    def update_mini_batch(self, mini_batch, eta):\n",
    "        # Update networks weights and biases by applying a single step\n",
    "        # of gradient descent using backpropagation to compute the gradient.\n",
    "        # The gradient is computed for a mini_batch which is as in tensorflow API.\n",
    "        # eta is the learning rate      \n",
    "        nabla_b, nabla_w = self.backprop(mini_batch[0].T,mini_batch[1].T)\n",
    "            \n",
    "        self.weights = [w-(eta/len(mini_batch[0]))*nw \n",
    "                        for w, nw in zip(self.weights, nabla_w)]\n",
    "        self.biases = [b-(eta/len(mini_batch[0]))*nb \n",
    "                       for b, nb in zip(self.biases, nabla_b)]\n",
    "        \n",
    "    def backprop(self, x, y):\n",
    "        delta_nabla_b = [np.zeros_like(p) for p in self.biases]\n",
    "        delta_nabla_w = [np.zeros_like(p) for p in self.weights]\n",
    "        \n",
    "        # For a single input (x,y) return a pair of lists.\n",
    "        # First contains gradients over biases, second over weights.\n",
    "        g = x\n",
    "        gs = [g] # list to store all the gs, layer by layer\n",
    "        for b, w in zip(self.biases, self.weights):\n",
    "            f = np.dot(w, g)+b\n",
    "            g = sigmoid(f)\n",
    "            gs.append(g)\n",
    "        # backward pass <- both steps at once\n",
    "        dLdg = self.cost_derivative(gs[-1], y)\n",
    "        for i in range(self.num_layers - 2, -1, -1):\n",
    "            dLdf = np.multiply(dLdg,np.multiply(gs[i + 1],1-gs[i + 1])) #dldf\n",
    "            delta_nabla_w[i] = np.dot(dLdf, gs[i].T) # df/dw\n",
    "            delta_nabla_b[i] = np.expand_dims(dLdf.sum(axis=1), 1)\n",
    "            dLdg = np.dot(self.weights[i].T, dLdf)\n",
    "        \n",
    "        return (delta_nabla_b,delta_nabla_w)\n",
    "\n",
    "    def evaluate(self, test_data):\n",
    "        # Count the number of correct answers for test_data\n",
    "        pred = np.argmax(self.feedforward(test_data[0]),axis=0)\n",
    "        corr = np.argmax(test_data[1],axis=1).T\n",
    "        return np.mean(pred==corr)\n",
    "    \n",
    "    def cost_derivative(self, output_activations, y):\n",
    "        return (output_activations-y) \n",
    "    \n",
    "    def SGD(self, training_data, epochs, mini_batch_size, eta, test_data=None):\n",
    "        x_train, y_train = training_data\n",
    "        if test_data:\n",
    "            x_test, y_test = test_data\n",
    "        for j in range(epochs):\n",
    "            for i in range(x_train.shape[0] // mini_batch_size):\n",
    "                x_mini_batch = x_train[(mini_batch_size*i):(mini_batch_size*(i+1))]\n",
    "                y_mini_batch = y_train[(mini_batch_size*i):(mini_batch_size*(i+1))]\n",
    "                self.update_mini_batch((x_mini_batch, y_mini_batch), eta)\n",
    "            if test_data:\n",
    "                print(\"Epoch: {0}, Accuracy: {1}\".format(j, self.evaluate((x_test, y_test))))\n",
    "            else:\n",
    "                print(\"Epoch: {0}\".format(j))"
   ]
  },
  {
   "cell_type": "markdown",
   "metadata": {},
   "source": [
    "Here, the backpropagation needs to store (n - 1, n is number of layers) gradients over biases and weights (their size depends on layer sizes), but aside from that, it also needs to store n vectors with values after activation."
   ]
  },
  {
   "cell_type": "code",
   "execution_count": 6,
   "metadata": {
    "id": "JkxL2Op8n2jM"
   },
   "outputs": [],
   "source": [
    "class NetworkWithCheckpointing(Network):\n",
    "\n",
    "    def __init__(self, sizes, checkpoint_every_nth_layer: int = 0, *args, **kwargs):\n",
    "        super().__init__(sizes, *args, **kwargs)\n",
    "        ##########################\n",
    "        ### Your solution here ###\n",
    "        ##########################\n",
    "        self.checkpoint_every_nth_layer = checkpoint_every_nth_layer\n",
    "\n",
    "    # get activations of layers with indices \n",
    "    # in (checkpoint_idx_start * self.checkpoint_every_nth_layer, layer_idx_end)\n",
    "    # left exclusive, right exclusive\n",
    "    def forward_between_checkpoints(self, a, checkpoint_idx_start, layer_idx_end):\n",
    "        ##########################\n",
    "        ### Your solution here ###\n",
    "        ##########################\n",
    "        assert(layer_idx_end >= 0)\n",
    "        \n",
    "        checkpoint_layer_idx = checkpoint_idx_start * self.checkpoint_every_nth_layer\n",
    "        activations = []\n",
    "        \n",
    "        for b, w in zip(\n",
    "            self.biases[checkpoint_layer_idx:layer_idx_end - 1],\n",
    "            self.weights[checkpoint_layer_idx:layer_idx_end - 1]\n",
    "        ):\n",
    "            a = sigmoid(np.matmul(w, a) + b)\n",
    "            activations.append(a)\n",
    "            \n",
    "        return activations\n",
    "        \n",
    "\n",
    "    def backprop(self, x, y):\n",
    "        ##########################\n",
    "        ### Your solution here ###\n",
    "        ##########################\n",
    "        delta_nabla_b = [np.zeros_like(p) for p in self.biases]\n",
    "        delta_nabla_w = [np.zeros_like(p) for p in self.weights]\n",
    "        \n",
    "        g = x\n",
    "        checkpoint_gs = [g]\n",
    "        layers_since_checkpoint = 0\n",
    "        for b, w in zip(self.biases, self.weights):\n",
    "            layers_since_checkpoint += 1\n",
    "            f = np.dot(w, g)+b\n",
    "            g = sigmoid(f)\n",
    "            if layers_since_checkpoint == self.checkpoint_every_nth_layer:\n",
    "                checkpoint_gs.append(g)\n",
    "                layers_since_checkpoint = 0\n",
    "\n",
    "        prev_checkpoint_to_end = self.forward_between_checkpoints(checkpoint_gs[-1], len(checkpoint_gs) - 1, self.num_layers)\n",
    "        chunk = [checkpoint_gs.pop()] + prev_checkpoint_to_end\n",
    "        \n",
    "        g = chunk.pop()\n",
    "        dLdg = self.cost_derivative(g, y)\n",
    "        \n",
    "        for i in range(self.num_layers - 2, -1, -1):\n",
    "            if not chunk:\n",
    "                prev_checkpoint_to_now = self.forward_between_checkpoints(checkpoint_gs[-1], len(checkpoint_gs) - 1, self.checkpoint_every_nth_layer * len(checkpoint_gs))\n",
    "                chunk = [checkpoint_gs.pop()] + prev_checkpoint_to_now\n",
    "            dLdf = np.multiply(dLdg,np.multiply(g,1-g)) #dldf\n",
    "            g = chunk.pop()\n",
    "            delta_nabla_w[i] = np.dot(dLdf, g.T) # df/dw\n",
    "            delta_nabla_b[i] = np.expand_dims(dLdf.sum(axis=1), 1)\n",
    "            dLdg = np.dot(self.weights[i].T, dLdf)\n",
    "        \n",
    "        return (delta_nabla_b,delta_nabla_w)\n",
    "        \n"
   ]
  },
  {
   "cell_type": "markdown",
   "metadata": {},
   "source": [
    "If using checkpointing, backpropagation does not need to store every layer's after-activation values. First of all, it keeps $\\frac{n}{\\text{checkpoint_every_nth_layer}}$ values after activation and in addition, it computes values between two consecutive checkpoints if needed (there are $\\text{checkpoint_every_nth_layer} - 1$ values after activation between two consecutive checkpoints), in addition to that during each iteration, it gets rid of one after-activation value.\n",
    "With no checkpointing, backprop kept delta_nabla_b, delta_nabla_w and n after-activation layer values, here in the peak moment we keep delta_nabla_b, delta_nabla_w, $\\frac{n}{\\text{checkpoint_every_nth_layer}} + (\\text{checkpoint_every_nth_layer} - 1)$after-activation layer values and it decreases.<br>\n",
    "Example: if we have 15 layers, no checkpointing backprop keeps 15 after-activation layer values, 14 gradients over biases and 14 gradients over weights. With checkpointing every 3rd layer, it keeps 14 gradients over biases, 14 gradients over weights and at first $\\frac{15}{3}$ checkpoint values + 2. During second iteration $\\frac{15}{3}$  checkpoint values + 1, then $\\frac{15}{3}$, then $\\frac{15}{3} - 1 + 2$ and so on.<br>\n",
    "In short, number of after-activation values we keep is <br># of layers between current layer and closest previous checkpoint + checkpoints_left$\\leq \\text{checkpoint_every_nth_layer} - 1 + \\frac{n}{\\text{checkpoint_every_nth_layer}}\\leq n$<br> at all times."
   ]
  },
  {
   "cell_type": "markdown",
   "metadata": {},
   "source": [
    "When it comes to running time, it's worth noticing, that unfortunately we need to recompute every after-activation layer value that was not checkpointed, there are $n - \\frac{n}{\\text{checkpoint_every_nth_value}} = \\frac{n(\\text{checkpoint_every_nth_value} - 1)}{\\text{checkpoint_every_nth_value}}$ values that need recomputing. Without checkpointing, for each value we only compute its forward pass once, now for $\\frac{\\text{checkpoint_every_nth_value} - 1}{\\text{checkpoint_every_nth_value}}$ of them, it needs to be done twice."
   ]
  },
  {
   "cell_type": "code",
   "execution_count": 7,
   "metadata": {},
   "outputs": [],
   "source": [
    "timeit_values = []\n",
    "epochs = 10"
   ]
  },
  {
   "cell_type": "code",
   "execution_count": 8,
   "metadata": {},
   "outputs": [],
   "source": [
    "%%capture\n",
    "np.random.seed(42)\n",
    "network = Network([784, 100, 100, 100, 30, 30, 30,10])\n",
    "x = %timeit -o network.SGD((x_train, y_train), epochs=epochs, mini_batch_size=100, eta=3.0, test_data=(x_test, y_test))\n",
    "timeit_values.append(x)"
   ]
  },
  {
   "cell_type": "code",
   "execution_count": 9,
   "metadata": {},
   "outputs": [],
   "source": [
    "%%capture\n",
    "np.random.seed(42)\n",
    "network2 = NetworkWithCheckpointing([784, 100, 100, 100, 30, 30, 30, 10], checkpoint_every_nth_layer=0)\n",
    "x = %timeit -o network2.SGD((x_train, y_train), epochs=epochs, mini_batch_size=100, eta=3.0, test_data=(x_test, y_test))\n",
    "timeit_values.append(x)"
   ]
  },
  {
   "cell_type": "code",
   "execution_count": 10,
   "metadata": {},
   "outputs": [],
   "source": [
    "%%capture\n",
    "np.random.seed(42)\n",
    "network2 = NetworkWithCheckpointing([784, 100, 100, 100, 30, 30, 30, 10], checkpoint_every_nth_layer=1)\n",
    "x = %timeit -o network2.SGD((x_train, y_train), epochs=epochs, mini_batch_size=100, eta=3.0, test_data=(x_test, y_test))\n",
    "timeit_values.append(x)"
   ]
  },
  {
   "cell_type": "code",
   "execution_count": 11,
   "metadata": {},
   "outputs": [],
   "source": [
    "%%capture\n",
    "np.random.seed(42)\n",
    "network2 = NetworkWithCheckpointing([784, 100, 100, 30, 30, 30, 10], checkpoint_every_nth_layer=2)\n",
    "x = %timeit -o network2.SGD((x_train, y_train), epochs=epochs, mini_batch_size=100, eta=3.0, test_data=(x_test, y_test))\n",
    "timeit_values.append(x)"
   ]
  },
  {
   "cell_type": "code",
   "execution_count": 12,
   "metadata": {},
   "outputs": [],
   "source": [
    "%%capture\n",
    "np.random.seed(42)\n",
    "network2 = NetworkWithCheckpointing([784, 100, 100, 100, 30, 30, 30, 10], checkpoint_every_nth_layer=3)\n",
    "x = %timeit -o network2.SGD((x_train, y_train), epochs=epochs, mini_batch_size=100, eta=3.0, test_data=(x_test, y_test))\n",
    "timeit_values.append(x)"
   ]
  },
  {
   "cell_type": "code",
   "execution_count": 13,
   "metadata": {},
   "outputs": [],
   "source": [
    "%%capture\n",
    "np.random.seed(42)\n",
    "network2 = NetworkWithCheckpointing([784, 100, 100, 100, 30, 30, 30, 10], checkpoint_every_nth_layer=4)\n",
    "x = %timeit -o network2.SGD((x_train, y_train), epochs=epochs, mini_batch_size=100, eta=3.0, test_data=(x_test, y_test))\n",
    "timeit_values.append(x)"
   ]
  },
  {
   "cell_type": "code",
   "execution_count": 14,
   "metadata": {},
   "outputs": [],
   "source": [
    "%%capture\n",
    "np.random.seed(42)\n",
    "network2 = NetworkWithCheckpointing([784, 100, 100, 100, 30, 30, 30, 10], checkpoint_every_nth_layer=5)\n",
    "x = %timeit -o network2.SGD((x_train, y_train), epochs=epochs, mini_batch_size=100, eta=3.0, test_data=(x_test, y_test))\n",
    "timeit_values.append(x)"
   ]
  },
  {
   "cell_type": "code",
   "execution_count": 36,
   "metadata": {},
   "outputs": [
    {
     "data": {
      "image/png": "[encoded data removed]",
      "text/plain": [
       "<Figure size 1080x720 with 1 Axes>"
      ]
     },
     "metadata": {
      "needs_background": "light"
     },
     "output_type": "display_data"
    }
   ],
   "source": [
    "ys = [t.average for t in timeit_values]\n",
    "xs = range(-1, 6)\n",
    "plt.plot(xs, ys, label='Average running time in seconds')\n",
    "plt.legend()\n",
    "plt.rcParams['figure.figsize'] = [15, 10]\n",
    "plt.show()"
   ]
  },
  {
   "cell_type": "markdown",
   "metadata": {},
   "source": [
    "It is interesting to see how running time is affected by checkpoint_every_nth_layer (-1 means we are using base version with no checkpointing).<br>\n",
    "No checkpointing has a similar running time as checkpointing every 1 and 2 layer, and that is quite expected, no checkpointing is basically the same as checkointing every 1 layer, and checkpointing every 2 layer does not require much more computations.<br>\n",
    "Checkpointing every 0 layer is basically no checkpointing at all, and calculating forward pass twice, that is why it's the longest.<br>\n",
    "From checkpointing every 2 layer upwards, we can see that running time is increasing but looks like it might be stabilizing, that is because eventually if we would checkpoint every nth layer where n is number of layers or more, we would not be doing any checkpointing at all (same as n = 0)."
   ]
  }
 ],
 "metadata": {
  "colab": {
   "provenance": []
  },
  "kernelspec": {
   "display_name": "Python 3 (ipykernel)",
   "language": "python",
   "name": "python3"
  },
  "language_info": {
   "codemirror_mode": {
    "name": "ipython",
    "version": 3
   },
   "file_extension": ".py",
   "mimetype": "text/x-python",
   "name": "python",
   "nbconvert_exporter": "python",
   "pygments_lexer": "ipython3",
   "version": "3.8.9"
  }
 },
 "nbformat": 4,
 "nbformat_minor": 1
}
